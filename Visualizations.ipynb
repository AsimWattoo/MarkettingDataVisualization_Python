{
 "cells": [
  {
   "cell_type": "code",
   "execution_count": 63,
   "metadata": {},
   "outputs": [],
   "source": [
    "import plotly.express as px\n",
    "import plotly.graph_objects as go\n",
    "import pandas as pd\n",
    "from plotly.subplots import make_subplots\n",
    "import numpy as np"
   ]
  },
  {
   "cell_type": "markdown",
   "metadata": {},
   "source": [
    "# Reading the Data"
   ]
  },
  {
   "cell_type": "code",
   "execution_count": 90,
   "metadata": {},
   "outputs": [
    {
     "data": {
      "text/html": [
       "<div>\n",
       "<style scoped>\n",
       "    .dataframe tbody tr th:only-of-type {\n",
       "        vertical-align: middle;\n",
       "    }\n",
       "\n",
       "    .dataframe tbody tr th {\n",
       "        vertical-align: top;\n",
       "    }\n",
       "\n",
       "    .dataframe thead th {\n",
       "        text-align: right;\n",
       "    }\n",
       "</style>\n",
       "<table border=\"1\" class=\"dataframe\">\n",
       "  <thead>\n",
       "    <tr style=\"text-align: right;\">\n",
       "      <th></th>\n",
       "      <th>Campaign ID</th>\n",
       "      <th>Campaign Name</th>\n",
       "      <th>Audience</th>\n",
       "      <th>Age</th>\n",
       "      <th>Geography</th>\n",
       "      <th>Reach</th>\n",
       "      <th>Impressions</th>\n",
       "      <th>Frequency</th>\n",
       "      <th>Clicks</th>\n",
       "      <th>Unique Clicks</th>\n",
       "      <th>Unique Link Clicks (ULC)</th>\n",
       "      <th>Click-Through Rate (CTR)</th>\n",
       "      <th>Unique Click-Through Rate (Unique CTR)</th>\n",
       "      <th>Amount Spent in INR</th>\n",
       "      <th>Cost Per Click (CPC)</th>\n",
       "      <th>Cost per Result (CPR)</th>\n",
       "    </tr>\n",
       "  </thead>\n",
       "  <tbody>\n",
       "    <tr>\n",
       "      <th>0</th>\n",
       "      <td>Campaign 1</td>\n",
       "      <td>SHU_6 (Educators and Principals)</td>\n",
       "      <td>Educators and Principals</td>\n",
       "      <td>25-34</td>\n",
       "      <td>Group 1 (Australia, Canada, United Kingdom, Gh...</td>\n",
       "      <td>11387</td>\n",
       "      <td>23283</td>\n",
       "      <td>2.044700</td>\n",
       "      <td>487</td>\n",
       "      <td>406</td>\n",
       "      <td>180</td>\n",
       "      <td>2.091655</td>\n",
       "      <td>3.565469</td>\n",
       "      <td>1092.24</td>\n",
       "      <td>2.242790</td>\n",
       "      <td>6.07</td>\n",
       "    </tr>\n",
       "    <tr>\n",
       "      <th>1</th>\n",
       "      <td>Campaign 1</td>\n",
       "      <td>SHU_6 (Educators and Principals)</td>\n",
       "      <td>Educators and Principals</td>\n",
       "      <td>35-44</td>\n",
       "      <td>Group 1 (Australia, Canada, United Kingdom, Gh...</td>\n",
       "      <td>8761</td>\n",
       "      <td>15683</td>\n",
       "      <td>1.790092</td>\n",
       "      <td>484</td>\n",
       "      <td>376</td>\n",
       "      <td>154</td>\n",
       "      <td>3.086144</td>\n",
       "      <td>4.291748</td>\n",
       "      <td>835.46</td>\n",
       "      <td>1.726165</td>\n",
       "      <td>5.43</td>\n",
       "    </tr>\n",
       "    <tr>\n",
       "      <th>2</th>\n",
       "      <td>Campaign 1</td>\n",
       "      <td>SHU_6 (Educators and Principals)</td>\n",
       "      <td>Educators and Principals</td>\n",
       "      <td>45-54</td>\n",
       "      <td>Group 1 (Australia, Canada, United Kingdom, Gh...</td>\n",
       "      <td>2867</td>\n",
       "      <td>6283</td>\n",
       "      <td>2.191489</td>\n",
       "      <td>198</td>\n",
       "      <td>145</td>\n",
       "      <td>65</td>\n",
       "      <td>3.151361</td>\n",
       "      <td>5.057551</td>\n",
       "      <td>319.38</td>\n",
       "      <td>1.613038</td>\n",
       "      <td>4.91</td>\n",
       "    </tr>\n",
       "    <tr>\n",
       "      <th>3</th>\n",
       "      <td>Campaign 1</td>\n",
       "      <td>SHU_6 (Educators and Principals)</td>\n",
       "      <td>Educators and Principals</td>\n",
       "      <td>55-64</td>\n",
       "      <td>Group 1 (Australia, Canada, United Kingdom, Gh...</td>\n",
       "      <td>889</td>\n",
       "      <td>1890</td>\n",
       "      <td>2.125984</td>\n",
       "      <td>49</td>\n",
       "      <td>40</td>\n",
       "      <td>21</td>\n",
       "      <td>2.592593</td>\n",
       "      <td>4.499438</td>\n",
       "      <td>86.25</td>\n",
       "      <td>1.760117</td>\n",
       "      <td>4.11</td>\n",
       "    </tr>\n",
       "    <tr>\n",
       "      <th>4</th>\n",
       "      <td>Campaign 2</td>\n",
       "      <td>SHU3_ (Students Apart from India and US)</td>\n",
       "      <td>Students</td>\n",
       "      <td>18-24</td>\n",
       "      <td>Group 2 (Australia, Canada, United Kingdom, Gh...</td>\n",
       "      <td>29675</td>\n",
       "      <td>39161</td>\n",
       "      <td>1.319663</td>\n",
       "      <td>2593</td>\n",
       "      <td>1994</td>\n",
       "      <td>1095</td>\n",
       "      <td>6.621384</td>\n",
       "      <td>6.719461</td>\n",
       "      <td>1193.94</td>\n",
       "      <td>0.460448</td>\n",
       "      <td>1.09</td>\n",
       "    </tr>\n",
       "  </tbody>\n",
       "</table>\n",
       "</div>"
      ],
      "text/plain": [
       "  Campaign ID                             Campaign Name  \\\n",
       "0  Campaign 1          SHU_6 (Educators and Principals)   \n",
       "1  Campaign 1          SHU_6 (Educators and Principals)   \n",
       "2  Campaign 1          SHU_6 (Educators and Principals)   \n",
       "3  Campaign 1          SHU_6 (Educators and Principals)   \n",
       "4  Campaign 2  SHU3_ (Students Apart from India and US)   \n",
       "\n",
       "                   Audience    Age  \\\n",
       "0  Educators and Principals  25-34   \n",
       "1  Educators and Principals  35-44   \n",
       "2  Educators and Principals  45-54   \n",
       "3  Educators and Principals  55-64   \n",
       "4                  Students  18-24   \n",
       "\n",
       "                                           Geography  Reach  Impressions  \\\n",
       "0  Group 1 (Australia, Canada, United Kingdom, Gh...  11387        23283   \n",
       "1  Group 1 (Australia, Canada, United Kingdom, Gh...   8761        15683   \n",
       "2  Group 1 (Australia, Canada, United Kingdom, Gh...   2867         6283   \n",
       "3  Group 1 (Australia, Canada, United Kingdom, Gh...    889         1890   \n",
       "4  Group 2 (Australia, Canada, United Kingdom, Gh...  29675        39161   \n",
       "\n",
       "   Frequency  Clicks  Unique Clicks  Unique Link Clicks (ULC)  \\\n",
       "0   2.044700     487            406                       180   \n",
       "1   1.790092     484            376                       154   \n",
       "2   2.191489     198            145                        65   \n",
       "3   2.125984      49             40                        21   \n",
       "4   1.319663    2593           1994                      1095   \n",
       "\n",
       "   Click-Through Rate (CTR)  Unique Click-Through Rate (Unique CTR)  \\\n",
       "0                  2.091655                                3.565469   \n",
       "1                  3.086144                                4.291748   \n",
       "2                  3.151361                                5.057551   \n",
       "3                  2.592593                                4.499438   \n",
       "4                  6.621384                                6.719461   \n",
       "\n",
       "   Amount Spent in INR  Cost Per Click (CPC)  Cost per Result (CPR)  \n",
       "0              1092.24              2.242790                   6.07  \n",
       "1               835.46              1.726165                   5.43  \n",
       "2               319.38              1.613038                   4.91  \n",
       "3                86.25              1.760117                   4.11  \n",
       "4              1193.94              0.460448                   1.09  "
      ]
     },
     "execution_count": 90,
     "metadata": {},
     "output_type": "execute_result"
    }
   ],
   "source": [
    "data = pd.read_csv('Data from marketing team - Raw Data.csv')\n",
    "data.head()"
   ]
  },
  {
   "cell_type": "markdown",
   "metadata": {},
   "source": [
    "# Visualizations"
   ]
  },
  {
   "cell_type": "code",
   "execution_count": 64,
   "metadata": {},
   "outputs": [
    {
     "data": {
      "text/plain": [
       "array(['13-17', '18-24', '25-34', '35-44', '45-54', '55-64'], dtype=object)"
      ]
     },
     "execution_count": 64,
     "metadata": {},
     "output_type": "execute_result"
    }
   ],
   "source": [
    "np.unique(data['Age'])"
   ]
  },
  {
   "cell_type": "code",
   "execution_count": 91,
   "metadata": {},
   "outputs": [
    {
     "data": {
      "text/html": [
       "<div>\n",
       "<style scoped>\n",
       "    .dataframe tbody tr th:only-of-type {\n",
       "        vertical-align: middle;\n",
       "    }\n",
       "\n",
       "    .dataframe tbody tr th {\n",
       "        vertical-align: top;\n",
       "    }\n",
       "\n",
       "    .dataframe thead th {\n",
       "        text-align: right;\n",
       "    }\n",
       "</style>\n",
       "<table border=\"1\" class=\"dataframe\">\n",
       "  <thead>\n",
       "    <tr style=\"text-align: right;\">\n",
       "      <th></th>\n",
       "      <th>Campaign Name</th>\n",
       "      <th>Reach</th>\n",
       "      <th>Impressions</th>\n",
       "      <th>Frequency</th>\n",
       "      <th>Clicks</th>\n",
       "      <th>Unique Clicks</th>\n",
       "      <th>Unique Link Clicks (ULC)</th>\n",
       "      <th>Click-Through Rate (CTR)</th>\n",
       "      <th>Unique Click-Through Rate (Unique CTR)</th>\n",
       "      <th>Amount Spent in INR</th>\n",
       "      <th>Cost Per Click (CPC)</th>\n",
       "      <th>Cost per Result (CPR)</th>\n",
       "    </tr>\n",
       "  </thead>\n",
       "  <tbody>\n",
       "    <tr>\n",
       "      <th>0</th>\n",
       "      <td>SHU3_ (Students Apart from India and US)</td>\n",
       "      <td>46494</td>\n",
       "      <td>67313</td>\n",
       "      <td>4.246435</td>\n",
       "      <td>3743</td>\n",
       "      <td>2833</td>\n",
       "      <td>1595</td>\n",
       "      <td>17.787891</td>\n",
       "      <td>18.275484</td>\n",
       "      <td>1579.02</td>\n",
       "      <td>1.242309</td>\n",
       "      <td>3.10</td>\n",
       "    </tr>\n",
       "    <tr>\n",
       "      <th>1</th>\n",
       "      <td>SHU_6 (Educators and Principals)</td>\n",
       "      <td>23904</td>\n",
       "      <td>47139</td>\n",
       "      <td>8.152266</td>\n",
       "      <td>1218</td>\n",
       "      <td>967</td>\n",
       "      <td>420</td>\n",
       "      <td>10.921752</td>\n",
       "      <td>17.414206</td>\n",
       "      <td>2333.33</td>\n",
       "      <td>7.342110</td>\n",
       "      <td>20.52</td>\n",
       "    </tr>\n",
       "    <tr>\n",
       "      <th>2</th>\n",
       "      <td>SHU_Students (Canada)</td>\n",
       "      <td>3307</td>\n",
       "      <td>4267</td>\n",
       "      <td>3.621679</td>\n",
       "      <td>171</td>\n",
       "      <td>146</td>\n",
       "      <td>112</td>\n",
       "      <td>16.540385</td>\n",
       "      <td>17.659132</td>\n",
       "      <td>923.96</td>\n",
       "      <td>16.512725</td>\n",
       "      <td>23.79</td>\n",
       "    </tr>\n",
       "    <tr>\n",
       "      <th>3</th>\n",
       "      <td>SHU_Students (India)</td>\n",
       "      <td>31831</td>\n",
       "      <td>37246</td>\n",
       "      <td>2.263661</td>\n",
       "      <td>1400</td>\n",
       "      <td>1238</td>\n",
       "      <td>987</td>\n",
       "      <td>8.607125</td>\n",
       "      <td>8.275220</td>\n",
       "      <td>955.21</td>\n",
       "      <td>1.348861</td>\n",
       "      <td>2.11</td>\n",
       "    </tr>\n",
       "    <tr>\n",
       "      <th>4</th>\n",
       "      <td>SHU_Students (Nigeria)</td>\n",
       "      <td>21929</td>\n",
       "      <td>28974</td>\n",
       "      <td>3.872050</td>\n",
       "      <td>2765</td>\n",
       "      <td>2058</td>\n",
       "      <td>1073</td>\n",
       "      <td>29.556387</td>\n",
       "      <td>28.078127</td>\n",
       "      <td>942.78</td>\n",
       "      <td>1.042724</td>\n",
       "      <td>2.69</td>\n",
       "    </tr>\n",
       "  </tbody>\n",
       "</table>\n",
       "</div>"
      ],
      "text/plain": [
       "                              Campaign Name  Reach  Impressions  Frequency  \\\n",
       "0  SHU3_ (Students Apart from India and US)  46494        67313   4.246435   \n",
       "1          SHU_6 (Educators and Principals)  23904        47139   8.152266   \n",
       "2                     SHU_Students (Canada)   3307         4267   3.621679   \n",
       "3                      SHU_Students (India)  31831        37246   2.263661   \n",
       "4                    SHU_Students (Nigeria)  21929        28974   3.872050   \n",
       "\n",
       "   Clicks  Unique Clicks  Unique Link Clicks (ULC)  Click-Through Rate (CTR)  \\\n",
       "0    3743           2833                      1595                 17.787891   \n",
       "1    1218            967                       420                 10.921752   \n",
       "2     171            146                       112                 16.540385   \n",
       "3    1400           1238                       987                  8.607125   \n",
       "4    2765           2058                      1073                 29.556387   \n",
       "\n",
       "   Unique Click-Through Rate (Unique CTR)  Amount Spent in INR  \\\n",
       "0                               18.275484              1579.02   \n",
       "1                               17.414206              2333.33   \n",
       "2                               17.659132               923.96   \n",
       "3                                8.275220               955.21   \n",
       "4                               28.078127               942.78   \n",
       "\n",
       "   Cost Per Click (CPC)  Cost per Result (CPR)  \n",
       "0              1.242309                   3.10  \n",
       "1              7.342110                  20.52  \n",
       "2             16.512725                  23.79  \n",
       "3              1.348861                   2.11  \n",
       "4              1.042724                   2.69  "
      ]
     },
     "execution_count": 91,
     "metadata": {},
     "output_type": "execute_result"
    }
   ],
   "source": [
    "grouped_data = data.groupby('Campaign Name').sum(numeric_only= True)\n",
    "grouped_data.reset_index(inplace= True)\n",
    "grouped_data.head()"
   ]
  },
  {
   "cell_type": "code",
   "execution_count": 51,
   "metadata": {},
   "outputs": [
    {
     "data": {
      "application/vnd.plotly.v1+json": {
       "config": {
        "plotlyServerURL": "https://plot.ly"
       },
       "data": [
        {
         "name": "Reach",
         "type": "bar",
         "x": [
          "SHU3_ (Students Apart from India and US)",
          "SHU_6 (Educators and Principals)",
          "SHU_Students (Canada)",
          "SHU_Students (India)",
          "SHU_Students (Nigeria)",
          "SHU_Students (USA)",
          "SHU_Students(Australia)",
          "SHU_Students(Ghana)",
          "SHU_Students(Nepal)",
          "SHU_Students(UAE)",
          "SHU_Students(UK)"
         ],
         "xaxis": "x",
         "y": [
          46494,
          23904,
          3307,
          31831,
          21929,
          2555,
          3187,
          15024,
          29668,
          7333,
          3636
         ],
         "yaxis": "y"
        },
        {
         "name": "Cost",
         "type": "scatter",
         "x": [
          "SHU3_ (Students Apart from India and US)",
          "SHU_6 (Educators and Principals)",
          "SHU_Students (Canada)",
          "SHU_Students (India)",
          "SHU_Students (Nigeria)",
          "SHU_Students (USA)",
          "SHU_Students(Australia)",
          "SHU_Students(Ghana)",
          "SHU_Students(Nepal)",
          "SHU_Students(UAE)",
          "SHU_Students(UK)"
         ],
         "xaxis": "x",
         "y": [
          1579.02,
          2333.33,
          923.96,
          955.21,
          942.78,
          897.68,
          850.6800000000001,
          837.7800000000001,
          1035.24,
          876.26,
          856.67
         ],
         "yaxis": "y2"
        }
       ],
       "layout": {
        "barmode": "stack",
        "template": {
         "data": {
          "bar": [
           {
            "error_x": {
             "color": "#2a3f5f"
            },
            "error_y": {
             "color": "#2a3f5f"
            },
            "marker": {
             "line": {
              "color": "#E5ECF6",
              "width": 0.5
             },
             "pattern": {
              "fillmode": "overlay",
              "size": 10,
              "solidity": 0.2
             }
            },
            "type": "bar"
           }
          ],
          "barpolar": [
           {
            "marker": {
             "line": {
              "color": "#E5ECF6",
              "width": 0.5
             },
             "pattern": {
              "fillmode": "overlay",
              "size": 10,
              "solidity": 0.2
             }
            },
            "type": "barpolar"
           }
          ],
          "carpet": [
           {
            "aaxis": {
             "endlinecolor": "#2a3f5f",
             "gridcolor": "white",
             "linecolor": "white",
             "minorgridcolor": "white",
             "startlinecolor": "#2a3f5f"
            },
            "baxis": {
             "endlinecolor": "#2a3f5f",
             "gridcolor": "white",
             "linecolor": "white",
             "minorgridcolor": "white",
             "startlinecolor": "#2a3f5f"
            },
            "type": "carpet"
           }
          ],
          "choropleth": [
           {
            "colorbar": {
             "outlinewidth": 0,
             "ticks": ""
            },
            "type": "choropleth"
           }
          ],
          "contour": [
           {
            "colorbar": {
             "outlinewidth": 0,
             "ticks": ""
            },
            "colorscale": [
             [
              0,
              "#0d0887"
             ],
             [
              0.1111111111111111,
              "#46039f"
             ],
             [
              0.2222222222222222,
              "#7201a8"
             ],
             [
              0.3333333333333333,
              "#9c179e"
             ],
             [
              0.4444444444444444,
              "#bd3786"
             ],
             [
              0.5555555555555556,
              "#d8576b"
             ],
             [
              0.6666666666666666,
              "#ed7953"
             ],
             [
              0.7777777777777778,
              "#fb9f3a"
             ],
             [
              0.8888888888888888,
              "#fdca26"
             ],
             [
              1,
              "#f0f921"
             ]
            ],
            "type": "contour"
           }
          ],
          "contourcarpet": [
           {
            "colorbar": {
             "outlinewidth": 0,
             "ticks": ""
            },
            "type": "contourcarpet"
           }
          ],
          "heatmap": [
           {
            "colorbar": {
             "outlinewidth": 0,
             "ticks": ""
            },
            "colorscale": [
             [
              0,
              "#0d0887"
             ],
             [
              0.1111111111111111,
              "#46039f"
             ],
             [
              0.2222222222222222,
              "#7201a8"
             ],
             [
              0.3333333333333333,
              "#9c179e"
             ],
             [
              0.4444444444444444,
              "#bd3786"
             ],
             [
              0.5555555555555556,
              "#d8576b"
             ],
             [
              0.6666666666666666,
              "#ed7953"
             ],
             [
              0.7777777777777778,
              "#fb9f3a"
             ],
             [
              0.8888888888888888,
              "#fdca26"
             ],
             [
              1,
              "#f0f921"
             ]
            ],
            "type": "heatmap"
           }
          ],
          "heatmapgl": [
           {
            "colorbar": {
             "outlinewidth": 0,
             "ticks": ""
            },
            "colorscale": [
             [
              0,
              "#0d0887"
             ],
             [
              0.1111111111111111,
              "#46039f"
             ],
             [
              0.2222222222222222,
              "#7201a8"
             ],
             [
              0.3333333333333333,
              "#9c179e"
             ],
             [
              0.4444444444444444,
              "#bd3786"
             ],
             [
              0.5555555555555556,
              "#d8576b"
             ],
             [
              0.6666666666666666,
              "#ed7953"
             ],
             [
              0.7777777777777778,
              "#fb9f3a"
             ],
             [
              0.8888888888888888,
              "#fdca26"
             ],
             [
              1,
              "#f0f921"
             ]
            ],
            "type": "heatmapgl"
           }
          ],
          "histogram": [
           {
            "marker": {
             "pattern": {
              "fillmode": "overlay",
              "size": 10,
              "solidity": 0.2
             }
            },
            "type": "histogram"
           }
          ],
          "histogram2d": [
           {
            "colorbar": {
             "outlinewidth": 0,
             "ticks": ""
            },
            "colorscale": [
             [
              0,
              "#0d0887"
             ],
             [
              0.1111111111111111,
              "#46039f"
             ],
             [
              0.2222222222222222,
              "#7201a8"
             ],
             [
              0.3333333333333333,
              "#9c179e"
             ],
             [
              0.4444444444444444,
              "#bd3786"
             ],
             [
              0.5555555555555556,
              "#d8576b"
             ],
             [
              0.6666666666666666,
              "#ed7953"
             ],
             [
              0.7777777777777778,
              "#fb9f3a"
             ],
             [
              0.8888888888888888,
              "#fdca26"
             ],
             [
              1,
              "#f0f921"
             ]
            ],
            "type": "histogram2d"
           }
          ],
          "histogram2dcontour": [
           {
            "colorbar": {
             "outlinewidth": 0,
             "ticks": ""
            },
            "colorscale": [
             [
              0,
              "#0d0887"
             ],
             [
              0.1111111111111111,
              "#46039f"
             ],
             [
              0.2222222222222222,
              "#7201a8"
             ],
             [
              0.3333333333333333,
              "#9c179e"
             ],
             [
              0.4444444444444444,
              "#bd3786"
             ],
             [
              0.5555555555555556,
              "#d8576b"
             ],
             [
              0.6666666666666666,
              "#ed7953"
             ],
             [
              0.7777777777777778,
              "#fb9f3a"
             ],
             [
              0.8888888888888888,
              "#fdca26"
             ],
             [
              1,
              "#f0f921"
             ]
            ],
            "type": "histogram2dcontour"
           }
          ],
          "mesh3d": [
           {
            "colorbar": {
             "outlinewidth": 0,
             "ticks": ""
            },
            "type": "mesh3d"
           }
          ],
          "parcoords": [
           {
            "line": {
             "colorbar": {
              "outlinewidth": 0,
              "ticks": ""
             }
            },
            "type": "parcoords"
           }
          ],
          "pie": [
           {
            "automargin": true,
            "type": "pie"
           }
          ],
          "scatter": [
           {
            "fillpattern": {
             "fillmode": "overlay",
             "size": 10,
             "solidity": 0.2
            },
            "type": "scatter"
           }
          ],
          "scatter3d": [
           {
            "line": {
             "colorbar": {
              "outlinewidth": 0,
              "ticks": ""
             }
            },
            "marker": {
             "colorbar": {
              "outlinewidth": 0,
              "ticks": ""
             }
            },
            "type": "scatter3d"
           }
          ],
          "scattercarpet": [
           {
            "marker": {
             "colorbar": {
              "outlinewidth": 0,
              "ticks": ""
             }
            },
            "type": "scattercarpet"
           }
          ],
          "scattergeo": [
           {
            "marker": {
             "colorbar": {
              "outlinewidth": 0,
              "ticks": ""
             }
            },
            "type": "scattergeo"
           }
          ],
          "scattergl": [
           {
            "marker": {
             "colorbar": {
              "outlinewidth": 0,
              "ticks": ""
             }
            },
            "type": "scattergl"
           }
          ],
          "scattermapbox": [
           {
            "marker": {
             "colorbar": {
              "outlinewidth": 0,
              "ticks": ""
             }
            },
            "type": "scattermapbox"
           }
          ],
          "scatterpolar": [
           {
            "marker": {
             "colorbar": {
              "outlinewidth": 0,
              "ticks": ""
             }
            },
            "type": "scatterpolar"
           }
          ],
          "scatterpolargl": [
           {
            "marker": {
             "colorbar": {
              "outlinewidth": 0,
              "ticks": ""
             }
            },
            "type": "scatterpolargl"
           }
          ],
          "scatterternary": [
           {
            "marker": {
             "colorbar": {
              "outlinewidth": 0,
              "ticks": ""
             }
            },
            "type": "scatterternary"
           }
          ],
          "surface": [
           {
            "colorbar": {
             "outlinewidth": 0,
             "ticks": ""
            },
            "colorscale": [
             [
              0,
              "#0d0887"
             ],
             [
              0.1111111111111111,
              "#46039f"
             ],
             [
              0.2222222222222222,
              "#7201a8"
             ],
             [
              0.3333333333333333,
              "#9c179e"
             ],
             [
              0.4444444444444444,
              "#bd3786"
             ],
             [
              0.5555555555555556,
              "#d8576b"
             ],
             [
              0.6666666666666666,
              "#ed7953"
             ],
             [
              0.7777777777777778,
              "#fb9f3a"
             ],
             [
              0.8888888888888888,
              "#fdca26"
             ],
             [
              1,
              "#f0f921"
             ]
            ],
            "type": "surface"
           }
          ],
          "table": [
           {
            "cells": {
             "fill": {
              "color": "#EBF0F8"
             },
             "line": {
              "color": "white"
             }
            },
            "header": {
             "fill": {
              "color": "#C8D4E3"
             },
             "line": {
              "color": "white"
             }
            },
            "type": "table"
           }
          ]
         },
         "layout": {
          "annotationdefaults": {
           "arrowcolor": "#2a3f5f",
           "arrowhead": 0,
           "arrowwidth": 1
          },
          "autotypenumbers": "strict",
          "coloraxis": {
           "colorbar": {
            "outlinewidth": 0,
            "ticks": ""
           }
          },
          "colorscale": {
           "diverging": [
            [
             0,
             "#8e0152"
            ],
            [
             0.1,
             "#c51b7d"
            ],
            [
             0.2,
             "#de77ae"
            ],
            [
             0.3,
             "#f1b6da"
            ],
            [
             0.4,
             "#fde0ef"
            ],
            [
             0.5,
             "#f7f7f7"
            ],
            [
             0.6,
             "#e6f5d0"
            ],
            [
             0.7,
             "#b8e186"
            ],
            [
             0.8,
             "#7fbc41"
            ],
            [
             0.9,
             "#4d9221"
            ],
            [
             1,
             "#276419"
            ]
           ],
           "sequential": [
            [
             0,
             "#0d0887"
            ],
            [
             0.1111111111111111,
             "#46039f"
            ],
            [
             0.2222222222222222,
             "#7201a8"
            ],
            [
             0.3333333333333333,
             "#9c179e"
            ],
            [
             0.4444444444444444,
             "#bd3786"
            ],
            [
             0.5555555555555556,
             "#d8576b"
            ],
            [
             0.6666666666666666,
             "#ed7953"
            ],
            [
             0.7777777777777778,
             "#fb9f3a"
            ],
            [
             0.8888888888888888,
             "#fdca26"
            ],
            [
             1,
             "#f0f921"
            ]
           ],
           "sequentialminus": [
            [
             0,
             "#0d0887"
            ],
            [
             0.1111111111111111,
             "#46039f"
            ],
            [
             0.2222222222222222,
             "#7201a8"
            ],
            [
             0.3333333333333333,
             "#9c179e"
            ],
            [
             0.4444444444444444,
             "#bd3786"
            ],
            [
             0.5555555555555556,
             "#d8576b"
            ],
            [
             0.6666666666666666,
             "#ed7953"
            ],
            [
             0.7777777777777778,
             "#fb9f3a"
            ],
            [
             0.8888888888888888,
             "#fdca26"
            ],
            [
             1,
             "#f0f921"
            ]
           ]
          },
          "colorway": [
           "#636efa",
           "#EF553B",
           "#00cc96",
           "#ab63fa",
           "#FFA15A",
           "#19d3f3",
           "#FF6692",
           "#B6E880",
           "#FF97FF",
           "#FECB52"
          ],
          "font": {
           "color": "#2a3f5f"
          },
          "geo": {
           "bgcolor": "white",
           "lakecolor": "white",
           "landcolor": "#E5ECF6",
           "showlakes": true,
           "showland": true,
           "subunitcolor": "white"
          },
          "hoverlabel": {
           "align": "left"
          },
          "hovermode": "closest",
          "mapbox": {
           "style": "light"
          },
          "paper_bgcolor": "white",
          "plot_bgcolor": "#E5ECF6",
          "polar": {
           "angularaxis": {
            "gridcolor": "white",
            "linecolor": "white",
            "ticks": ""
           },
           "bgcolor": "#E5ECF6",
           "radialaxis": {
            "gridcolor": "white",
            "linecolor": "white",
            "ticks": ""
           }
          },
          "scene": {
           "xaxis": {
            "backgroundcolor": "#E5ECF6",
            "gridcolor": "white",
            "gridwidth": 2,
            "linecolor": "white",
            "showbackground": true,
            "ticks": "",
            "zerolinecolor": "white"
           },
           "yaxis": {
            "backgroundcolor": "#E5ECF6",
            "gridcolor": "white",
            "gridwidth": 2,
            "linecolor": "white",
            "showbackground": true,
            "ticks": "",
            "zerolinecolor": "white"
           },
           "zaxis": {
            "backgroundcolor": "#E5ECF6",
            "gridcolor": "white",
            "gridwidth": 2,
            "linecolor": "white",
            "showbackground": true,
            "ticks": "",
            "zerolinecolor": "white"
           }
          },
          "shapedefaults": {
           "line": {
            "color": "#2a3f5f"
           }
          },
          "ternary": {
           "aaxis": {
            "gridcolor": "white",
            "linecolor": "white",
            "ticks": ""
           },
           "baxis": {
            "gridcolor": "white",
            "linecolor": "white",
            "ticks": ""
           },
           "bgcolor": "#E5ECF6",
           "caxis": {
            "gridcolor": "white",
            "linecolor": "white",
            "ticks": ""
           }
          },
          "title": {
           "x": 0.05
          },
          "xaxis": {
           "automargin": true,
           "gridcolor": "white",
           "linecolor": "white",
           "ticks": "",
           "title": {
            "standoff": 15
           },
           "zerolinecolor": "white",
           "zerolinewidth": 2
          },
          "yaxis": {
           "automargin": true,
           "gridcolor": "white",
           "linecolor": "white",
           "ticks": "",
           "title": {
            "standoff": 15
           },
           "zerolinecolor": "white",
           "zerolinewidth": 2
          }
         }
        },
        "xaxis": {
         "anchor": "y",
         "domain": [
          0,
          0.94
         ]
        },
        "yaxis": {
         "anchor": "x",
         "domain": [
          0,
          1
         ]
        },
        "yaxis2": {
         "anchor": "x",
         "overlaying": "y",
         "side": "right"
        }
       }
      }
     },
     "metadata": {},
     "output_type": "display_data"
    }
   ],
   "source": [
    "fig = make_subplots(specs=[[{\"secondary_y\": True}]])\n",
    "fig.add_trace(\n",
    "    go.Bar(name = \"Reach\", x = grouped_data['Campaign Name'], y = grouped_data['Reach']),\n",
    "    secondary_y= False\n",
    ")\n",
    "fig.add_trace(\n",
    "    go.Scatter(name = \"Cost\", x = grouped_data['Campaign Name'], y = grouped_data['Amount Spent in INR']),\n",
    "    secondary_y= True\n",
    ")\n",
    "fig.update_layout(barmode = 'stack')\n",
    "fig.show()"
   ]
  },
  {
   "cell_type": "code",
   "execution_count": 87,
   "metadata": {},
   "outputs": [
    {
     "data": {
      "application/vnd.plotly.v1+json": {
       "config": {
        "plotlyServerURL": "https://plot.ly"
       },
       "data": [
        {
         "name": "Reach (13-17)",
         "type": "bar",
         "x": [
          "SHU3_ (Students Apart from India and US)",
          "SHU_Students(Australia)",
          "SHU_Students (Canada)",
          "SHU_Students(Ghana)",
          "SHU_Students(Nepal)",
          "SHU_Students (Nigeria)",
          "SHU_Students(UAE)",
          "SHU_Students(UK)",
          "SHU_Students (USA)"
         ],
         "xaxis": "x",
         "y": [
          14753,
          2271,
          2330,
          5355,
          6145,
          8516,
          1579,
          2557,
          2159
         ],
         "yaxis": "y"
        },
        {
         "name": "Cost (13-17)",
         "type": "scatter",
         "x": [
          "SHU3_ (Students Apart from India and US)",
          "SHU_Students(Australia)",
          "SHU_Students (Canada)",
          "SHU_Students(Ghana)",
          "SHU_Students(Nepal)",
          "SHU_Students (Nigeria)",
          "SHU_Students(UAE)",
          "SHU_Students(UK)",
          "SHU_Students (USA)"
         ],
         "xaxis": "x",
         "y": [
          299.51,
          475.85,
          528.08,
          177.46,
          211.76,
          282.21,
          104.63,
          487.52,
          691.28
         ],
         "yaxis": "y2"
        },
        {
         "name": "Reach (18-24)",
         "type": "bar",
         "x": [
          "SHU3_ (Students Apart from India and US)",
          "SHU_Students(Australia)",
          "SHU_Students (Canada)",
          "SHU_Students(Ghana)",
          "SHU_Students (India)",
          "SHU_Students(Nepal)",
          "SHU_Students (Nigeria)",
          "SHU_Students(UAE)",
          "SHU_Students(UK)",
          "SHU_Students (USA)"
         ],
         "xaxis": "x2",
         "y": [
          29675,
          704,
          759,
          5952,
          30110,
          18900,
          11027,
          2862,
          741,
          305
         ],
         "yaxis": "y3"
        },
        {
         "name": "Cost (18-24)",
         "type": "scatter",
         "x": [
          "SHU3_ (Students Apart from India and US)",
          "SHU_Students(Australia)",
          "SHU_Students (Canada)",
          "SHU_Students(Ghana)",
          "SHU_Students (India)",
          "SHU_Students(Nepal)",
          "SHU_Students (Nigeria)",
          "SHU_Students(UAE)",
          "SHU_Students(UK)",
          "SHU_Students (USA)"
         ],
         "xaxis": "x2",
         "y": [
          1193.94,
          283.17,
          294.82,
          378.1,
          894,
          634.64,
          542.67,
          316.14,
          255.57,
          159.14
         ],
         "yaxis": "y4"
        },
        {
         "name": "Reach (25-34)",
         "type": "bar",
         "x": [
          "SHU_6 (Educators and Principals)",
          "SHU3_ (Students Apart from India and US)",
          "SHU_Students(Australia)",
          "SHU_Students (Canada)",
          "SHU_Students(Ghana)",
          "SHU_Students (India)",
          "SHU_Students(Nepal)",
          "SHU_Students (Nigeria)",
          "SHU_Students(UAE)",
          "SHU_Students(UK)",
          "SHU_Students (USA)"
         ],
         "xaxis": "x3",
         "y": [
          11387,
          2066,
          212,
          218,
          3717,
          1721,
          4623,
          2386,
          2892,
          338,
          91
         ],
         "yaxis": "y5"
        },
        {
         "name": "Cost (25-34)",
         "type": "scatter",
         "x": [
          "SHU_6 (Educators and Principals)",
          "SHU3_ (Students Apart from India and US)",
          "SHU_Students(Australia)",
          "SHU_Students (Canada)",
          "SHU_Students(Ghana)",
          "SHU_Students (India)",
          "SHU_Students(Nepal)",
          "SHU_Students (Nigeria)",
          "SHU_Students(UAE)",
          "SHU_Students(UK)",
          "SHU_Students (USA)"
         ],
         "xaxis": "x3",
         "y": [
          1092.24,
          85.57,
          91.66,
          101.06,
          282.22,
          61.21,
          188.84,
          117.9,
          455.49,
          113.58,
          47.26
         ],
         "yaxis": "y6"
        },
        {
         "name": "Reach (35-44)",
         "type": "bar",
         "x": [
          "SHU_6 (Educators and Principals)"
         ],
         "xaxis": "x4",
         "y": [
          8761
         ],
         "yaxis": "y7"
        },
        {
         "name": "Cost (35-44)",
         "type": "scatter",
         "x": [
          "SHU_6 (Educators and Principals)"
         ],
         "xaxis": "x4",
         "y": [
          835.46
         ],
         "yaxis": "y8"
        },
        {
         "name": "Reach (45-54)",
         "type": "bar",
         "x": [
          "SHU_6 (Educators and Principals)"
         ],
         "xaxis": "x5",
         "y": [
          2867
         ],
         "yaxis": "y9"
        },
        {
         "name": "Cost (45-54)",
         "type": "scatter",
         "x": [
          "SHU_6 (Educators and Principals)"
         ],
         "xaxis": "x5",
         "y": [
          319.38
         ],
         "yaxis": "y10"
        },
        {
         "name": "Reach (55-64)",
         "type": "bar",
         "x": [
          "SHU_6 (Educators and Principals)"
         ],
         "xaxis": "x6",
         "y": [
          889
         ],
         "yaxis": "y11"
        },
        {
         "name": "Cost (55-64)",
         "type": "scatter",
         "x": [
          "SHU_6 (Educators and Principals)"
         ],
         "xaxis": "x5",
         "y": [
          86.25
         ],
         "yaxis": "y10"
        }
       ],
       "layout": {
        "height": 1500,
        "template": {
         "data": {
          "bar": [
           {
            "error_x": {
             "color": "#2a3f5f"
            },
            "error_y": {
             "color": "#2a3f5f"
            },
            "marker": {
             "line": {
              "color": "#E5ECF6",
              "width": 0.5
             },
             "pattern": {
              "fillmode": "overlay",
              "size": 10,
              "solidity": 0.2
             }
            },
            "type": "bar"
           }
          ],
          "barpolar": [
           {
            "marker": {
             "line": {
              "color": "#E5ECF6",
              "width": 0.5
             },
             "pattern": {
              "fillmode": "overlay",
              "size": 10,
              "solidity": 0.2
             }
            },
            "type": "barpolar"
           }
          ],
          "carpet": [
           {
            "aaxis": {
             "endlinecolor": "#2a3f5f",
             "gridcolor": "white",
             "linecolor": "white",
             "minorgridcolor": "white",
             "startlinecolor": "#2a3f5f"
            },
            "baxis": {
             "endlinecolor": "#2a3f5f",
             "gridcolor": "white",
             "linecolor": "white",
             "minorgridcolor": "white",
             "startlinecolor": "#2a3f5f"
            },
            "type": "carpet"
           }
          ],
          "choropleth": [
           {
            "colorbar": {
             "outlinewidth": 0,
             "ticks": ""
            },
            "type": "choropleth"
           }
          ],
          "contour": [
           {
            "colorbar": {
             "outlinewidth": 0,
             "ticks": ""
            },
            "colorscale": [
             [
              0,
              "#0d0887"
             ],
             [
              0.1111111111111111,
              "#46039f"
             ],
             [
              0.2222222222222222,
              "#7201a8"
             ],
             [
              0.3333333333333333,
              "#9c179e"
             ],
             [
              0.4444444444444444,
              "#bd3786"
             ],
             [
              0.5555555555555556,
              "#d8576b"
             ],
             [
              0.6666666666666666,
              "#ed7953"
             ],
             [
              0.7777777777777778,
              "#fb9f3a"
             ],
             [
              0.8888888888888888,
              "#fdca26"
             ],
             [
              1,
              "#f0f921"
             ]
            ],
            "type": "contour"
           }
          ],
          "contourcarpet": [
           {
            "colorbar": {
             "outlinewidth": 0,
             "ticks": ""
            },
            "type": "contourcarpet"
           }
          ],
          "heatmap": [
           {
            "colorbar": {
             "outlinewidth": 0,
             "ticks": ""
            },
            "colorscale": [
             [
              0,
              "#0d0887"
             ],
             [
              0.1111111111111111,
              "#46039f"
             ],
             [
              0.2222222222222222,
              "#7201a8"
             ],
             [
              0.3333333333333333,
              "#9c179e"
             ],
             [
              0.4444444444444444,
              "#bd3786"
             ],
             [
              0.5555555555555556,
              "#d8576b"
             ],
             [
              0.6666666666666666,
              "#ed7953"
             ],
             [
              0.7777777777777778,
              "#fb9f3a"
             ],
             [
              0.8888888888888888,
              "#fdca26"
             ],
             [
              1,
              "#f0f921"
             ]
            ],
            "type": "heatmap"
           }
          ],
          "heatmapgl": [
           {
            "colorbar": {
             "outlinewidth": 0,
             "ticks": ""
            },
            "colorscale": [
             [
              0,
              "#0d0887"
             ],
             [
              0.1111111111111111,
              "#46039f"
             ],
             [
              0.2222222222222222,
              "#7201a8"
             ],
             [
              0.3333333333333333,
              "#9c179e"
             ],
             [
              0.4444444444444444,
              "#bd3786"
             ],
             [
              0.5555555555555556,
              "#d8576b"
             ],
             [
              0.6666666666666666,
              "#ed7953"
             ],
             [
              0.7777777777777778,
              "#fb9f3a"
             ],
             [
              0.8888888888888888,
              "#fdca26"
             ],
             [
              1,
              "#f0f921"
             ]
            ],
            "type": "heatmapgl"
           }
          ],
          "histogram": [
           {
            "marker": {
             "pattern": {
              "fillmode": "overlay",
              "size": 10,
              "solidity": 0.2
             }
            },
            "type": "histogram"
           }
          ],
          "histogram2d": [
           {
            "colorbar": {
             "outlinewidth": 0,
             "ticks": ""
            },
            "colorscale": [
             [
              0,
              "#0d0887"
             ],
             [
              0.1111111111111111,
              "#46039f"
             ],
             [
              0.2222222222222222,
              "#7201a8"
             ],
             [
              0.3333333333333333,
              "#9c179e"
             ],
             [
              0.4444444444444444,
              "#bd3786"
             ],
             [
              0.5555555555555556,
              "#d8576b"
             ],
             [
              0.6666666666666666,
              "#ed7953"
             ],
             [
              0.7777777777777778,
              "#fb9f3a"
             ],
             [
              0.8888888888888888,
              "#fdca26"
             ],
             [
              1,
              "#f0f921"
             ]
            ],
            "type": "histogram2d"
           }
          ],
          "histogram2dcontour": [
           {
            "colorbar": {
             "outlinewidth": 0,
             "ticks": ""
            },
            "colorscale": [
             [
              0,
              "#0d0887"
             ],
             [
              0.1111111111111111,
              "#46039f"
             ],
             [
              0.2222222222222222,
              "#7201a8"
             ],
             [
              0.3333333333333333,
              "#9c179e"
             ],
             [
              0.4444444444444444,
              "#bd3786"
             ],
             [
              0.5555555555555556,
              "#d8576b"
             ],
             [
              0.6666666666666666,
              "#ed7953"
             ],
             [
              0.7777777777777778,
              "#fb9f3a"
             ],
             [
              0.8888888888888888,
              "#fdca26"
             ],
             [
              1,
              "#f0f921"
             ]
            ],
            "type": "histogram2dcontour"
           }
          ],
          "mesh3d": [
           {
            "colorbar": {
             "outlinewidth": 0,
             "ticks": ""
            },
            "type": "mesh3d"
           }
          ],
          "parcoords": [
           {
            "line": {
             "colorbar": {
              "outlinewidth": 0,
              "ticks": ""
             }
            },
            "type": "parcoords"
           }
          ],
          "pie": [
           {
            "automargin": true,
            "type": "pie"
           }
          ],
          "scatter": [
           {
            "fillpattern": {
             "fillmode": "overlay",
             "size": 10,
             "solidity": 0.2
            },
            "type": "scatter"
           }
          ],
          "scatter3d": [
           {
            "line": {
             "colorbar": {
              "outlinewidth": 0,
              "ticks": ""
             }
            },
            "marker": {
             "colorbar": {
              "outlinewidth": 0,
              "ticks": ""
             }
            },
            "type": "scatter3d"
           }
          ],
          "scattercarpet": [
           {
            "marker": {
             "colorbar": {
              "outlinewidth": 0,
              "ticks": ""
             }
            },
            "type": "scattercarpet"
           }
          ],
          "scattergeo": [
           {
            "marker": {
             "colorbar": {
              "outlinewidth": 0,
              "ticks": ""
             }
            },
            "type": "scattergeo"
           }
          ],
          "scattergl": [
           {
            "marker": {
             "colorbar": {
              "outlinewidth": 0,
              "ticks": ""
             }
            },
            "type": "scattergl"
           }
          ],
          "scattermapbox": [
           {
            "marker": {
             "colorbar": {
              "outlinewidth": 0,
              "ticks": ""
             }
            },
            "type": "scattermapbox"
           }
          ],
          "scatterpolar": [
           {
            "marker": {
             "colorbar": {
              "outlinewidth": 0,
              "ticks": ""
             }
            },
            "type": "scatterpolar"
           }
          ],
          "scatterpolargl": [
           {
            "marker": {
             "colorbar": {
              "outlinewidth": 0,
              "ticks": ""
             }
            },
            "type": "scatterpolargl"
           }
          ],
          "scatterternary": [
           {
            "marker": {
             "colorbar": {
              "outlinewidth": 0,
              "ticks": ""
             }
            },
            "type": "scatterternary"
           }
          ],
          "surface": [
           {
            "colorbar": {
             "outlinewidth": 0,
             "ticks": ""
            },
            "colorscale": [
             [
              0,
              "#0d0887"
             ],
             [
              0.1111111111111111,
              "#46039f"
             ],
             [
              0.2222222222222222,
              "#7201a8"
             ],
             [
              0.3333333333333333,
              "#9c179e"
             ],
             [
              0.4444444444444444,
              "#bd3786"
             ],
             [
              0.5555555555555556,
              "#d8576b"
             ],
             [
              0.6666666666666666,
              "#ed7953"
             ],
             [
              0.7777777777777778,
              "#fb9f3a"
             ],
             [
              0.8888888888888888,
              "#fdca26"
             ],
             [
              1,
              "#f0f921"
             ]
            ],
            "type": "surface"
           }
          ],
          "table": [
           {
            "cells": {
             "fill": {
              "color": "#EBF0F8"
             },
             "line": {
              "color": "white"
             }
            },
            "header": {
             "fill": {
              "color": "#C8D4E3"
             },
             "line": {
              "color": "white"
             }
            },
            "type": "table"
           }
          ]
         },
         "layout": {
          "annotationdefaults": {
           "arrowcolor": "#2a3f5f",
           "arrowhead": 0,
           "arrowwidth": 1
          },
          "autotypenumbers": "strict",
          "coloraxis": {
           "colorbar": {
            "outlinewidth": 0,
            "ticks": ""
           }
          },
          "colorscale": {
           "diverging": [
            [
             0,
             "#8e0152"
            ],
            [
             0.1,
             "#c51b7d"
            ],
            [
             0.2,
             "#de77ae"
            ],
            [
             0.3,
             "#f1b6da"
            ],
            [
             0.4,
             "#fde0ef"
            ],
            [
             0.5,
             "#f7f7f7"
            ],
            [
             0.6,
             "#e6f5d0"
            ],
            [
             0.7,
             "#b8e186"
            ],
            [
             0.8,
             "#7fbc41"
            ],
            [
             0.9,
             "#4d9221"
            ],
            [
             1,
             "#276419"
            ]
           ],
           "sequential": [
            [
             0,
             "#0d0887"
            ],
            [
             0.1111111111111111,
             "#46039f"
            ],
            [
             0.2222222222222222,
             "#7201a8"
            ],
            [
             0.3333333333333333,
             "#9c179e"
            ],
            [
             0.4444444444444444,
             "#bd3786"
            ],
            [
             0.5555555555555556,
             "#d8576b"
            ],
            [
             0.6666666666666666,
             "#ed7953"
            ],
            [
             0.7777777777777778,
             "#fb9f3a"
            ],
            [
             0.8888888888888888,
             "#fdca26"
            ],
            [
             1,
             "#f0f921"
            ]
           ],
           "sequentialminus": [
            [
             0,
             "#0d0887"
            ],
            [
             0.1111111111111111,
             "#46039f"
            ],
            [
             0.2222222222222222,
             "#7201a8"
            ],
            [
             0.3333333333333333,
             "#9c179e"
            ],
            [
             0.4444444444444444,
             "#bd3786"
            ],
            [
             0.5555555555555556,
             "#d8576b"
            ],
            [
             0.6666666666666666,
             "#ed7953"
            ],
            [
             0.7777777777777778,
             "#fb9f3a"
            ],
            [
             0.8888888888888888,
             "#fdca26"
            ],
            [
             1,
             "#f0f921"
            ]
           ]
          },
          "colorway": [
           "#636efa",
           "#EF553B",
           "#00cc96",
           "#ab63fa",
           "#FFA15A",
           "#19d3f3",
           "#FF6692",
           "#B6E880",
           "#FF97FF",
           "#FECB52"
          ],
          "font": {
           "color": "#2a3f5f"
          },
          "geo": {
           "bgcolor": "white",
           "lakecolor": "white",
           "landcolor": "#E5ECF6",
           "showlakes": true,
           "showland": true,
           "subunitcolor": "white"
          },
          "hoverlabel": {
           "align": "left"
          },
          "hovermode": "closest",
          "mapbox": {
           "style": "light"
          },
          "paper_bgcolor": "white",
          "plot_bgcolor": "#E5ECF6",
          "polar": {
           "angularaxis": {
            "gridcolor": "white",
            "linecolor": "white",
            "ticks": ""
           },
           "bgcolor": "#E5ECF6",
           "radialaxis": {
            "gridcolor": "white",
            "linecolor": "white",
            "ticks": ""
           }
          },
          "scene": {
           "xaxis": {
            "backgroundcolor": "#E5ECF6",
            "gridcolor": "white",
            "gridwidth": 2,
            "linecolor": "white",
            "showbackground": true,
            "ticks": "",
            "zerolinecolor": "white"
           },
           "yaxis": {
            "backgroundcolor": "#E5ECF6",
            "gridcolor": "white",
            "gridwidth": 2,
            "linecolor": "white",
            "showbackground": true,
            "ticks": "",
            "zerolinecolor": "white"
           },
           "zaxis": {
            "backgroundcolor": "#E5ECF6",
            "gridcolor": "white",
            "gridwidth": 2,
            "linecolor": "white",
            "showbackground": true,
            "ticks": "",
            "zerolinecolor": "white"
           }
          },
          "shapedefaults": {
           "line": {
            "color": "#2a3f5f"
           }
          },
          "ternary": {
           "aaxis": {
            "gridcolor": "white",
            "linecolor": "white",
            "ticks": ""
           },
           "baxis": {
            "gridcolor": "white",
            "linecolor": "white",
            "ticks": ""
           },
           "bgcolor": "#E5ECF6",
           "caxis": {
            "gridcolor": "white",
            "linecolor": "white",
            "ticks": ""
           }
          },
          "title": {
           "x": 0.05
          },
          "xaxis": {
           "automargin": true,
           "gridcolor": "white",
           "linecolor": "white",
           "ticks": "",
           "title": {
            "standoff": 15
           },
           "zerolinecolor": "white",
           "zerolinewidth": 2
          },
          "yaxis": {
           "automargin": true,
           "gridcolor": "white",
           "linecolor": "white",
           "ticks": "",
           "title": {
            "standoff": 15
           },
           "zerolinecolor": "white",
           "zerolinewidth": 2
          }
         }
        },
        "width": 1800,
        "xaxis": {
         "anchor": "y",
         "domain": [
          0,
          0.37
         ]
        },
        "xaxis2": {
         "anchor": "y3",
         "domain": [
          0.5700000000000001,
          0.9400000000000001
         ]
        },
        "xaxis3": {
         "anchor": "y5",
         "domain": [
          0,
          0.37
         ]
        },
        "xaxis4": {
         "anchor": "y7",
         "domain": [
          0.5700000000000001,
          0.9400000000000001
         ]
        },
        "xaxis5": {
         "anchor": "y9",
         "domain": [
          0,
          0.37
         ]
        },
        "xaxis6": {
         "anchor": "y11",
         "domain": [
          0.5700000000000001,
          0.9400000000000001
         ]
        },
        "yaxis": {
         "anchor": "x",
         "domain": [
          0.7333333333333333,
          1
         ]
        },
        "yaxis10": {
         "anchor": "x5",
         "overlaying": "y9",
         "side": "right"
        },
        "yaxis11": {
         "anchor": "x6",
         "domain": [
          0,
          0.26666666666666666
         ]
        },
        "yaxis12": {
         "anchor": "x6",
         "overlaying": "y11",
         "side": "right"
        },
        "yaxis2": {
         "anchor": "x",
         "overlaying": "y",
         "side": "right"
        },
        "yaxis3": {
         "anchor": "x2",
         "domain": [
          0.7333333333333333,
          1
         ]
        },
        "yaxis4": {
         "anchor": "x2",
         "overlaying": "y3",
         "side": "right"
        },
        "yaxis5": {
         "anchor": "x3",
         "domain": [
          0.36666666666666664,
          0.6333333333333333
         ]
        },
        "yaxis6": {
         "anchor": "x3",
         "overlaying": "y5",
         "side": "right"
        },
        "yaxis7": {
         "anchor": "x4",
         "domain": [
          0.36666666666666664,
          0.6333333333333333
         ]
        },
        "yaxis8": {
         "anchor": "x4",
         "overlaying": "y7",
         "side": "right"
        },
        "yaxis9": {
         "anchor": "x5",
         "domain": [
          0,
          0.26666666666666666
         ]
        }
       }
      }
     },
     "metadata": {},
     "output_type": "display_data"
    }
   ],
   "source": [
    "fig = make_subplots(rows=3, cols=2, specs=[[{\"secondary_y\": True}, {'secondary_y': True}], [{\"secondary_y\": True}, {\"secondary_y\": True}], [{\"secondary_y\": True}, {\"secondary_y\": True}]])\n",
    "age = '13-17'\n",
    "fig.add_trace(\n",
    "    go.Bar(name= f'Reach ({age})', x= data[data['Age'] == age]['Campaign Name'], y= data[data['Age'] == age]['Reach']),\n",
    "    row=1,\n",
    "    col=1,\n",
    ")\n",
    "fig.add_trace(\n",
    "    go.Scatter(name=f'Cost ({age})', x = data[data['Age'] == age]['Campaign Name'], y = data[data['Age'] == age]['Amount Spent in INR']),\n",
    "    secondary_y= True,\n",
    "    row=1,\n",
    "    col=1,\n",
    ")\n",
    "age = '18-24'\n",
    "fig.add_trace(\n",
    "    go.Bar(name= f'Reach ({age})', x= data[data['Age'] == age]['Campaign Name'], y= data[data['Age'] == age]['Reach']),\n",
    "    row=1,\n",
    "    col=2,\n",
    ")\n",
    "fig.add_trace(\n",
    "    go.Scatter(name=f'Cost ({age})', x = data[data['Age'] == age]['Campaign Name'], y = data[data['Age'] == age]['Amount Spent in INR']),\n",
    "    secondary_y= True,\n",
    "    row=1,\n",
    "    col=2,\n",
    ")\n",
    "age = '25-34'\n",
    "fig.add_trace(\n",
    "    go.Bar(name= f'Reach ({age})', x= data[data['Age'] == age]['Campaign Name'], y= data[data['Age'] == age]['Reach']),\n",
    "    row=2,\n",
    "    col=1,\n",
    ")\n",
    "fig.add_trace(\n",
    "    go.Scatter(name=f'Cost ({age})', x = data[data['Age'] == age]['Campaign Name'], y = data[data['Age'] == age]['Amount Spent in INR']),\n",
    "    secondary_y= True,\n",
    "    row=2,\n",
    "    col=1,\n",
    ")\n",
    "age = '35-44'\n",
    "fig.add_trace(\n",
    "    go.Bar(name= f'Reach ({age})', x= data[data['Age'] == age]['Campaign Name'], y= data[data['Age'] == age]['Reach']),\n",
    "    row=2,\n",
    "    col=2,\n",
    ")\n",
    "fig.add_trace(\n",
    "    go.Scatter(name=f'Cost ({age})', x = data[data['Age'] == age]['Campaign Name'], y = data[data['Age'] == age]['Amount Spent in INR']),\n",
    "    secondary_y= True,\n",
    "    row=2,\n",
    "    col=2,\n",
    ")\n",
    "age = '45-54'\n",
    "fig.add_trace(\n",
    "    go.Bar(name= f'Reach ({age})', x= data[data['Age'] == age]['Campaign Name'], y= data[data['Age'] == age]['Reach']),\n",
    "    row=3,\n",
    "    col=1,\n",
    ")\n",
    "fig.add_trace(\n",
    "    go.Scatter(name=f'Cost ({age})', x = data[data['Age'] == age]['Campaign Name'], y = data[data['Age'] == age]['Amount Spent in INR']),\n",
    "    secondary_y= True,\n",
    "    row=3,\n",
    "    col=1,\n",
    ")\n",
    "age = '55-64'\n",
    "fig.add_trace(\n",
    "    go.Bar(name= f'Reach ({age})', x= data[data['Age'] == age]['Campaign Name'], y= data[data['Age'] == age]['Reach']),\n",
    "    row=3,\n",
    "    col=2,\n",
    ")\n",
    "fig.add_trace(\n",
    "    go.Scatter(name=f'Cost ({age})', x = data[data['Age'] == age]['Campaign Name'], y = data[data['Age'] == age]['Amount Spent in INR']),\n",
    "    secondary_y= True,\n",
    "    row=3,\n",
    "    col=1,\n",
    ")\n",
    "fig.update_layout(width=1800, height=1500)\n",
    "fig.show()"
   ]
  },
  {
   "cell_type": "code",
   "execution_count": 103,
   "metadata": {},
   "outputs": [
    {
     "data": {
      "application/vnd.plotly.v1+json": {
       "config": {
        "plotlyServerURL": "https://plot.ly"
       },
       "data": [
        {
         "marker": {
          "size": [
           0.69,
           16.99,
           8.38,
           1.91,
           1.64,
           0.69,
           5.23,
           14.77,
           7.28
          ]
         },
         "mode": "markers",
         "name": "Cost per Result (CPR)(13-17)",
         "type": "scatter",
         "x": [
          "SHU_6 (Educators and Principals)",
          "SHU_6 (Educators and Principals)",
          "SHU_6 (Educators and Principals)",
          "SHU_6 (Educators and Principals)",
          "SHU3_ (Students Apart from India and US)",
          "SHU3_ (Students Apart from India and US)",
          "SHU3_ (Students Apart from India and US)",
          "SHU_Students(Australia)",
          "SHU_Students(Australia)",
          "SHU_Students(Australia)",
          "SHU_Students (Canada)",
          "SHU_Students (Canada)",
          "SHU_Students (Canada)",
          "SHU_Students(Ghana)",
          "SHU_Students(Ghana)",
          "SHU_Students(Ghana)",
          "SHU_Students (India)",
          "SHU_Students (India)",
          "SHU_Students(Nepal)",
          "SHU_Students(Nepal)",
          "SHU_Students(Nepal)",
          "SHU_Students (Nigeria)",
          "SHU_Students (Nigeria)",
          "SHU_Students (Nigeria)",
          "SHU_Students(UAE)",
          "SHU_Students(UAE)",
          "SHU_Students(UAE)",
          "SHU_Students(UK)",
          "SHU_Students(UK)",
          "SHU_Students(UK)",
          "SHU_Students (USA)",
          "SHU_Students (USA)",
          "SHU_Students (USA)"
         ],
         "y": [
          0.69,
          16.99,
          8.38,
          1.91,
          1.64,
          0.69,
          5.23,
          14.77,
          7.28
         ]
        },
        {
         "marker": {
          "size": [
           1.09,
           21.78,
           8.67,
           3.86,
           0.96,
           2.07,
           0.99,
           11.71,
           12.78,
           5.68
          ]
         },
         "mode": "markers",
         "name": "Cost per Result (CPR)(18-24)",
         "type": "scatter",
         "x": [
          "SHU_6 (Educators and Principals)",
          "SHU_6 (Educators and Principals)",
          "SHU_6 (Educators and Principals)",
          "SHU_6 (Educators and Principals)",
          "SHU3_ (Students Apart from India and US)",
          "SHU3_ (Students Apart from India and US)",
          "SHU3_ (Students Apart from India and US)",
          "SHU_Students(Australia)",
          "SHU_Students(Australia)",
          "SHU_Students(Australia)",
          "SHU_Students (Canada)",
          "SHU_Students (Canada)",
          "SHU_Students (Canada)",
          "SHU_Students(Ghana)",
          "SHU_Students(Ghana)",
          "SHU_Students(Ghana)",
          "SHU_Students (India)",
          "SHU_Students (India)",
          "SHU_Students(Nepal)",
          "SHU_Students(Nepal)",
          "SHU_Students(Nepal)",
          "SHU_Students (Nigeria)",
          "SHU_Students (Nigeria)",
          "SHU_Students (Nigeria)",
          "SHU_Students(UAE)",
          "SHU_Students(UAE)",
          "SHU_Students(UAE)",
          "SHU_Students(UK)",
          "SHU_Students(UK)",
          "SHU_Students(UK)",
          "SHU_Students (USA)",
          "SHU_Students (USA)",
          "SHU_Students (USA)"
         ],
         "y": [
          1.09,
          21.78,
          8.67,
          3.86,
          0.96,
          2.07,
          0.99,
          11.71,
          12.78,
          5.68
         ]
        },
        {
         "marker": {
          "size": [
           6.07,
           1.32,
           30.55,
           6.74,
           6.14,
           1.15,
           2.28,
           1.01,
           11.11,
           28.4,
           15.75
          ]
         },
         "mode": "markers",
         "name": "Cost per Result (CPR)(25-34)",
         "type": "scatter",
         "x": [
          "SHU_6 (Educators and Principals)",
          "SHU_6 (Educators and Principals)",
          "SHU_6 (Educators and Principals)",
          "SHU_6 (Educators and Principals)",
          "SHU3_ (Students Apart from India and US)",
          "SHU3_ (Students Apart from India and US)",
          "SHU3_ (Students Apart from India and US)",
          "SHU_Students(Australia)",
          "SHU_Students(Australia)",
          "SHU_Students(Australia)",
          "SHU_Students (Canada)",
          "SHU_Students (Canada)",
          "SHU_Students (Canada)",
          "SHU_Students(Ghana)",
          "SHU_Students(Ghana)",
          "SHU_Students(Ghana)",
          "SHU_Students (India)",
          "SHU_Students (India)",
          "SHU_Students(Nepal)",
          "SHU_Students(Nepal)",
          "SHU_Students(Nepal)",
          "SHU_Students (Nigeria)",
          "SHU_Students (Nigeria)",
          "SHU_Students (Nigeria)",
          "SHU_Students(UAE)",
          "SHU_Students(UAE)",
          "SHU_Students(UAE)",
          "SHU_Students(UK)",
          "SHU_Students(UK)",
          "SHU_Students(UK)",
          "SHU_Students (USA)",
          "SHU_Students (USA)",
          "SHU_Students (USA)"
         ],
         "y": [
          6.07,
          1.32,
          30.55,
          6.74,
          6.14,
          1.15,
          2.28,
          1.01,
          11.11,
          28.4,
          15.75
         ]
        },
        {
         "marker": {
          "size": [
           5.43
          ]
         },
         "mode": "markers",
         "name": "Cost per Result (CPR)(35-44)",
         "type": "scatter",
         "x": [
          "SHU_6 (Educators and Principals)",
          "SHU_6 (Educators and Principals)",
          "SHU_6 (Educators and Principals)",
          "SHU_6 (Educators and Principals)",
          "SHU3_ (Students Apart from India and US)",
          "SHU3_ (Students Apart from India and US)",
          "SHU3_ (Students Apart from India and US)",
          "SHU_Students(Australia)",
          "SHU_Students(Australia)",
          "SHU_Students(Australia)",
          "SHU_Students (Canada)",
          "SHU_Students (Canada)",
          "SHU_Students (Canada)",
          "SHU_Students(Ghana)",
          "SHU_Students(Ghana)",
          "SHU_Students(Ghana)",
          "SHU_Students (India)",
          "SHU_Students (India)",
          "SHU_Students(Nepal)",
          "SHU_Students(Nepal)",
          "SHU_Students(Nepal)",
          "SHU_Students (Nigeria)",
          "SHU_Students (Nigeria)",
          "SHU_Students (Nigeria)",
          "SHU_Students(UAE)",
          "SHU_Students(UAE)",
          "SHU_Students(UAE)",
          "SHU_Students(UK)",
          "SHU_Students(UK)",
          "SHU_Students(UK)",
          "SHU_Students (USA)",
          "SHU_Students (USA)",
          "SHU_Students (USA)"
         ],
         "y": [
          5.43
         ]
        },
        {
         "marker": {
          "size": [
           4.91
          ]
         },
         "mode": "markers",
         "name": "Cost per Result (CPR)(45-54)",
         "type": "scatter",
         "x": [
          "SHU_6 (Educators and Principals)",
          "SHU_6 (Educators and Principals)",
          "SHU_6 (Educators and Principals)",
          "SHU_6 (Educators and Principals)",
          "SHU3_ (Students Apart from India and US)",
          "SHU3_ (Students Apart from India and US)",
          "SHU3_ (Students Apart from India and US)",
          "SHU_Students(Australia)",
          "SHU_Students(Australia)",
          "SHU_Students(Australia)",
          "SHU_Students (Canada)",
          "SHU_Students (Canada)",
          "SHU_Students (Canada)",
          "SHU_Students(Ghana)",
          "SHU_Students(Ghana)",
          "SHU_Students(Ghana)",
          "SHU_Students (India)",
          "SHU_Students (India)",
          "SHU_Students(Nepal)",
          "SHU_Students(Nepal)",
          "SHU_Students(Nepal)",
          "SHU_Students (Nigeria)",
          "SHU_Students (Nigeria)",
          "SHU_Students (Nigeria)",
          "SHU_Students(UAE)",
          "SHU_Students(UAE)",
          "SHU_Students(UAE)",
          "SHU_Students(UK)",
          "SHU_Students(UK)",
          "SHU_Students(UK)",
          "SHU_Students (USA)",
          "SHU_Students (USA)",
          "SHU_Students (USA)"
         ],
         "y": [
          4.91
         ]
        },
        {
         "marker": {
          "size": [
           4.11
          ]
         },
         "mode": "markers",
         "name": "Cost per Result (CPR)(55-64)",
         "type": "scatter",
         "x": [
          "SHU_6 (Educators and Principals)",
          "SHU_6 (Educators and Principals)",
          "SHU_6 (Educators and Principals)",
          "SHU_6 (Educators and Principals)",
          "SHU3_ (Students Apart from India and US)",
          "SHU3_ (Students Apart from India and US)",
          "SHU3_ (Students Apart from India and US)",
          "SHU_Students(Australia)",
          "SHU_Students(Australia)",
          "SHU_Students(Australia)",
          "SHU_Students (Canada)",
          "SHU_Students (Canada)",
          "SHU_Students (Canada)",
          "SHU_Students(Ghana)",
          "SHU_Students(Ghana)",
          "SHU_Students(Ghana)",
          "SHU_Students (India)",
          "SHU_Students (India)",
          "SHU_Students(Nepal)",
          "SHU_Students(Nepal)",
          "SHU_Students(Nepal)",
          "SHU_Students (Nigeria)",
          "SHU_Students (Nigeria)",
          "SHU_Students (Nigeria)",
          "SHU_Students(UAE)",
          "SHU_Students(UAE)",
          "SHU_Students(UAE)",
          "SHU_Students(UK)",
          "SHU_Students(UK)",
          "SHU_Students(UK)",
          "SHU_Students (USA)",
          "SHU_Students (USA)",
          "SHU_Students (USA)"
         ],
         "y": [
          4.11
         ]
        }
       ],
       "layout": {
        "template": {
         "data": {
          "bar": [
           {
            "error_x": {
             "color": "#2a3f5f"
            },
            "error_y": {
             "color": "#2a3f5f"
            },
            "marker": {
             "line": {
              "color": "#E5ECF6",
              "width": 0.5
             },
             "pattern": {
              "fillmode": "overlay",
              "size": 10,
              "solidity": 0.2
             }
            },
            "type": "bar"
           }
          ],
          "barpolar": [
           {
            "marker": {
             "line": {
              "color": "#E5ECF6",
              "width": 0.5
             },
             "pattern": {
              "fillmode": "overlay",
              "size": 10,
              "solidity": 0.2
             }
            },
            "type": "barpolar"
           }
          ],
          "carpet": [
           {
            "aaxis": {
             "endlinecolor": "#2a3f5f",
             "gridcolor": "white",
             "linecolor": "white",
             "minorgridcolor": "white",
             "startlinecolor": "#2a3f5f"
            },
            "baxis": {
             "endlinecolor": "#2a3f5f",
             "gridcolor": "white",
             "linecolor": "white",
             "minorgridcolor": "white",
             "startlinecolor": "#2a3f5f"
            },
            "type": "carpet"
           }
          ],
          "choropleth": [
           {
            "colorbar": {
             "outlinewidth": 0,
             "ticks": ""
            },
            "type": "choropleth"
           }
          ],
          "contour": [
           {
            "colorbar": {
             "outlinewidth": 0,
             "ticks": ""
            },
            "colorscale": [
             [
              0,
              "#0d0887"
             ],
             [
              0.1111111111111111,
              "#46039f"
             ],
             [
              0.2222222222222222,
              "#7201a8"
             ],
             [
              0.3333333333333333,
              "#9c179e"
             ],
             [
              0.4444444444444444,
              "#bd3786"
             ],
             [
              0.5555555555555556,
              "#d8576b"
             ],
             [
              0.6666666666666666,
              "#ed7953"
             ],
             [
              0.7777777777777778,
              "#fb9f3a"
             ],
             [
              0.8888888888888888,
              "#fdca26"
             ],
             [
              1,
              "#f0f921"
             ]
            ],
            "type": "contour"
           }
          ],
          "contourcarpet": [
           {
            "colorbar": {
             "outlinewidth": 0,
             "ticks": ""
            },
            "type": "contourcarpet"
           }
          ],
          "heatmap": [
           {
            "colorbar": {
             "outlinewidth": 0,
             "ticks": ""
            },
            "colorscale": [
             [
              0,
              "#0d0887"
             ],
             [
              0.1111111111111111,
              "#46039f"
             ],
             [
              0.2222222222222222,
              "#7201a8"
             ],
             [
              0.3333333333333333,
              "#9c179e"
             ],
             [
              0.4444444444444444,
              "#bd3786"
             ],
             [
              0.5555555555555556,
              "#d8576b"
             ],
             [
              0.6666666666666666,
              "#ed7953"
             ],
             [
              0.7777777777777778,
              "#fb9f3a"
             ],
             [
              0.8888888888888888,
              "#fdca26"
             ],
             [
              1,
              "#f0f921"
             ]
            ],
            "type": "heatmap"
           }
          ],
          "heatmapgl": [
           {
            "colorbar": {
             "outlinewidth": 0,
             "ticks": ""
            },
            "colorscale": [
             [
              0,
              "#0d0887"
             ],
             [
              0.1111111111111111,
              "#46039f"
             ],
             [
              0.2222222222222222,
              "#7201a8"
             ],
             [
              0.3333333333333333,
              "#9c179e"
             ],
             [
              0.4444444444444444,
              "#bd3786"
             ],
             [
              0.5555555555555556,
              "#d8576b"
             ],
             [
              0.6666666666666666,
              "#ed7953"
             ],
             [
              0.7777777777777778,
              "#fb9f3a"
             ],
             [
              0.8888888888888888,
              "#fdca26"
             ],
             [
              1,
              "#f0f921"
             ]
            ],
            "type": "heatmapgl"
           }
          ],
          "histogram": [
           {
            "marker": {
             "pattern": {
              "fillmode": "overlay",
              "size": 10,
              "solidity": 0.2
             }
            },
            "type": "histogram"
           }
          ],
          "histogram2d": [
           {
            "colorbar": {
             "outlinewidth": 0,
             "ticks": ""
            },
            "colorscale": [
             [
              0,
              "#0d0887"
             ],
             [
              0.1111111111111111,
              "#46039f"
             ],
             [
              0.2222222222222222,
              "#7201a8"
             ],
             [
              0.3333333333333333,
              "#9c179e"
             ],
             [
              0.4444444444444444,
              "#bd3786"
             ],
             [
              0.5555555555555556,
              "#d8576b"
             ],
             [
              0.6666666666666666,
              "#ed7953"
             ],
             [
              0.7777777777777778,
              "#fb9f3a"
             ],
             [
              0.8888888888888888,
              "#fdca26"
             ],
             [
              1,
              "#f0f921"
             ]
            ],
            "type": "histogram2d"
           }
          ],
          "histogram2dcontour": [
           {
            "colorbar": {
             "outlinewidth": 0,
             "ticks": ""
            },
            "colorscale": [
             [
              0,
              "#0d0887"
             ],
             [
              0.1111111111111111,
              "#46039f"
             ],
             [
              0.2222222222222222,
              "#7201a8"
             ],
             [
              0.3333333333333333,
              "#9c179e"
             ],
             [
              0.4444444444444444,
              "#bd3786"
             ],
             [
              0.5555555555555556,
              "#d8576b"
             ],
             [
              0.6666666666666666,
              "#ed7953"
             ],
             [
              0.7777777777777778,
              "#fb9f3a"
             ],
             [
              0.8888888888888888,
              "#fdca26"
             ],
             [
              1,
              "#f0f921"
             ]
            ],
            "type": "histogram2dcontour"
           }
          ],
          "mesh3d": [
           {
            "colorbar": {
             "outlinewidth": 0,
             "ticks": ""
            },
            "type": "mesh3d"
           }
          ],
          "parcoords": [
           {
            "line": {
             "colorbar": {
              "outlinewidth": 0,
              "ticks": ""
             }
            },
            "type": "parcoords"
           }
          ],
          "pie": [
           {
            "automargin": true,
            "type": "pie"
           }
          ],
          "scatter": [
           {
            "fillpattern": {
             "fillmode": "overlay",
             "size": 10,
             "solidity": 0.2
            },
            "type": "scatter"
           }
          ],
          "scatter3d": [
           {
            "line": {
             "colorbar": {
              "outlinewidth": 0,
              "ticks": ""
             }
            },
            "marker": {
             "colorbar": {
              "outlinewidth": 0,
              "ticks": ""
             }
            },
            "type": "scatter3d"
           }
          ],
          "scattercarpet": [
           {
            "marker": {
             "colorbar": {
              "outlinewidth": 0,
              "ticks": ""
             }
            },
            "type": "scattercarpet"
           }
          ],
          "scattergeo": [
           {
            "marker": {
             "colorbar": {
              "outlinewidth": 0,
              "ticks": ""
             }
            },
            "type": "scattergeo"
           }
          ],
          "scattergl": [
           {
            "marker": {
             "colorbar": {
              "outlinewidth": 0,
              "ticks": ""
             }
            },
            "type": "scattergl"
           }
          ],
          "scattermapbox": [
           {
            "marker": {
             "colorbar": {
              "outlinewidth": 0,
              "ticks": ""
             }
            },
            "type": "scattermapbox"
           }
          ],
          "scatterpolar": [
           {
            "marker": {
             "colorbar": {
              "outlinewidth": 0,
              "ticks": ""
             }
            },
            "type": "scatterpolar"
           }
          ],
          "scatterpolargl": [
           {
            "marker": {
             "colorbar": {
              "outlinewidth": 0,
              "ticks": ""
             }
            },
            "type": "scatterpolargl"
           }
          ],
          "scatterternary": [
           {
            "marker": {
             "colorbar": {
              "outlinewidth": 0,
              "ticks": ""
             }
            },
            "type": "scatterternary"
           }
          ],
          "surface": [
           {
            "colorbar": {
             "outlinewidth": 0,
             "ticks": ""
            },
            "colorscale": [
             [
              0,
              "#0d0887"
             ],
             [
              0.1111111111111111,
              "#46039f"
             ],
             [
              0.2222222222222222,
              "#7201a8"
             ],
             [
              0.3333333333333333,
              "#9c179e"
             ],
             [
              0.4444444444444444,
              "#bd3786"
             ],
             [
              0.5555555555555556,
              "#d8576b"
             ],
             [
              0.6666666666666666,
              "#ed7953"
             ],
             [
              0.7777777777777778,
              "#fb9f3a"
             ],
             [
              0.8888888888888888,
              "#fdca26"
             ],
             [
              1,
              "#f0f921"
             ]
            ],
            "type": "surface"
           }
          ],
          "table": [
           {
            "cells": {
             "fill": {
              "color": "#EBF0F8"
             },
             "line": {
              "color": "white"
             }
            },
            "header": {
             "fill": {
              "color": "#C8D4E3"
             },
             "line": {
              "color": "white"
             }
            },
            "type": "table"
           }
          ]
         },
         "layout": {
          "annotationdefaults": {
           "arrowcolor": "#2a3f5f",
           "arrowhead": 0,
           "arrowwidth": 1
          },
          "autotypenumbers": "strict",
          "coloraxis": {
           "colorbar": {
            "outlinewidth": 0,
            "ticks": ""
           }
          },
          "colorscale": {
           "diverging": [
            [
             0,
             "#8e0152"
            ],
            [
             0.1,
             "#c51b7d"
            ],
            [
             0.2,
             "#de77ae"
            ],
            [
             0.3,
             "#f1b6da"
            ],
            [
             0.4,
             "#fde0ef"
            ],
            [
             0.5,
             "#f7f7f7"
            ],
            [
             0.6,
             "#e6f5d0"
            ],
            [
             0.7,
             "#b8e186"
            ],
            [
             0.8,
             "#7fbc41"
            ],
            [
             0.9,
             "#4d9221"
            ],
            [
             1,
             "#276419"
            ]
           ],
           "sequential": [
            [
             0,
             "#0d0887"
            ],
            [
             0.1111111111111111,
             "#46039f"
            ],
            [
             0.2222222222222222,
             "#7201a8"
            ],
            [
             0.3333333333333333,
             "#9c179e"
            ],
            [
             0.4444444444444444,
             "#bd3786"
            ],
            [
             0.5555555555555556,
             "#d8576b"
            ],
            [
             0.6666666666666666,
             "#ed7953"
            ],
            [
             0.7777777777777778,
             "#fb9f3a"
            ],
            [
             0.8888888888888888,
             "#fdca26"
            ],
            [
             1,
             "#f0f921"
            ]
           ],
           "sequentialminus": [
            [
             0,
             "#0d0887"
            ],
            [
             0.1111111111111111,
             "#46039f"
            ],
            [
             0.2222222222222222,
             "#7201a8"
            ],
            [
             0.3333333333333333,
             "#9c179e"
            ],
            [
             0.4444444444444444,
             "#bd3786"
            ],
            [
             0.5555555555555556,
             "#d8576b"
            ],
            [
             0.6666666666666666,
             "#ed7953"
            ],
            [
             0.7777777777777778,
             "#fb9f3a"
            ],
            [
             0.8888888888888888,
             "#fdca26"
            ],
            [
             1,
             "#f0f921"
            ]
           ]
          },
          "colorway": [
           "#636efa",
           "#EF553B",
           "#00cc96",
           "#ab63fa",
           "#FFA15A",
           "#19d3f3",
           "#FF6692",
           "#B6E880",
           "#FF97FF",
           "#FECB52"
          ],
          "font": {
           "color": "#2a3f5f"
          },
          "geo": {
           "bgcolor": "white",
           "lakecolor": "white",
           "landcolor": "#E5ECF6",
           "showlakes": true,
           "showland": true,
           "subunitcolor": "white"
          },
          "hoverlabel": {
           "align": "left"
          },
          "hovermode": "closest",
          "mapbox": {
           "style": "light"
          },
          "paper_bgcolor": "white",
          "plot_bgcolor": "#E5ECF6",
          "polar": {
           "angularaxis": {
            "gridcolor": "white",
            "linecolor": "white",
            "ticks": ""
           },
           "bgcolor": "#E5ECF6",
           "radialaxis": {
            "gridcolor": "white",
            "linecolor": "white",
            "ticks": ""
           }
          },
          "scene": {
           "xaxis": {
            "backgroundcolor": "#E5ECF6",
            "gridcolor": "white",
            "gridwidth": 2,
            "linecolor": "white",
            "showbackground": true,
            "ticks": "",
            "zerolinecolor": "white"
           },
           "yaxis": {
            "backgroundcolor": "#E5ECF6",
            "gridcolor": "white",
            "gridwidth": 2,
            "linecolor": "white",
            "showbackground": true,
            "ticks": "",
            "zerolinecolor": "white"
           },
           "zaxis": {
            "backgroundcolor": "#E5ECF6",
            "gridcolor": "white",
            "gridwidth": 2,
            "linecolor": "white",
            "showbackground": true,
            "ticks": "",
            "zerolinecolor": "white"
           }
          },
          "shapedefaults": {
           "line": {
            "color": "#2a3f5f"
           }
          },
          "ternary": {
           "aaxis": {
            "gridcolor": "white",
            "linecolor": "white",
            "ticks": ""
           },
           "baxis": {
            "gridcolor": "white",
            "linecolor": "white",
            "ticks": ""
           },
           "bgcolor": "#E5ECF6",
           "caxis": {
            "gridcolor": "white",
            "linecolor": "white",
            "ticks": ""
           }
          },
          "title": {
           "x": 0.05
          },
          "xaxis": {
           "automargin": true,
           "gridcolor": "white",
           "linecolor": "white",
           "ticks": "",
           "title": {
            "standoff": 15
           },
           "zerolinecolor": "white",
           "zerolinewidth": 2
          },
          "yaxis": {
           "automargin": true,
           "gridcolor": "white",
           "linecolor": "white",
           "ticks": "",
           "title": {
            "standoff": 15
           },
           "zerolinecolor": "white",
           "zerolinewidth": 2
          }
         }
        }
       }
      }
     },
     "metadata": {},
     "output_type": "display_data"
    }
   ],
   "source": [
    "fig = go.Figure(data= [\n",
    "    go.Scatter(name = 'Cost per Result (CPR)(13-17)', x=data['Campaign Name'], y=data[data['Age'] == '13-17']['Cost per Result (CPR)'], mode='markers', marker=dict(size=data[data['Age'] == '13-17']['Cost per Result (CPR)'])),\n",
    "    go.Scatter(name = 'Cost per Result (CPR)(18-24)', x=data['Campaign Name'], y=data[data['Age'] == '18-24']['Cost per Result (CPR)'], mode='markers', marker=dict(size=data[data['Age'] == '18-24']['Cost per Result (CPR)'])),\n",
    "    go.Scatter(name = 'Cost per Result (CPR)(25-34)', x=data['Campaign Name'], y=data[data['Age'] == '25-34']['Cost per Result (CPR)'], mode='markers', marker=dict(size=data[data['Age'] == '25-34']['Cost per Result (CPR)'])),\n",
    "    go.Scatter(name = 'Cost per Result (CPR)(35-44)', x=data['Campaign Name'], y=data[data['Age'] == '35-44']['Cost per Result (CPR)'], mode='markers', marker=dict(size=data[data['Age'] == '35-44']['Cost per Result (CPR)'])),\n",
    "    go.Scatter(name = 'Cost per Result (CPR)(45-54)', x=data['Campaign Name'], y=data[data['Age'] == '45-54']['Cost per Result (CPR)'], mode='markers', marker=dict(size=data[data['Age'] == '45-54']['Cost per Result (CPR)'])),\n",
    "    go.Scatter(name = 'Cost per Result (CPR)(55-64)', x=data['Campaign Name'], y=data[data['Age'] == '55-64']['Cost per Result (CPR)'], mode='markers', marker=dict(size=data[data['Age'] == '55-64']['Cost per Result (CPR)'])),\n",
    "])\n",
    "fig.show()"
   ]
  }
 ],
 "metadata": {
  "kernelspec": {
   "display_name": "base",
   "language": "python",
   "name": "python3"
  },
  "language_info": {
   "codemirror_mode": {
    "name": "ipython",
    "version": 3
   },
   "file_extension": ".py",
   "mimetype": "text/x-python",
   "name": "python",
   "nbconvert_exporter": "python",
   "pygments_lexer": "ipython3",
   "version": "3.10.9"
  },
  "orig_nbformat": 4
 },
 "nbformat": 4,
 "nbformat_minor": 2
}
